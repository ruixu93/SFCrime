{
 "cells": [
  {
   "cell_type": "code",
   "execution_count": 1,
   "metadata": {
    "collapsed": false
   },
   "outputs": [],
   "source": [
    "import numpy as np\n",
    "import pandas as pd\n",
    "from sklearn.ensemble import RandomForestClassifier\n",
    "from sklearn import svm\n",
    "from sklearn.preprocessing import OneHotEncoder\n",
    "enc = OneHotEncoder()"
   ]
  },
  {
   "cell_type": "code",
   "execution_count": 2,
   "metadata": {
    "collapsed": false
   },
   "outputs": [],
   "source": [
    "#import train set\n",
    "train_set = pd.read_csv('train_set.csv', sep = ',')\n",
    "train_X = pd.DataFrame()\n",
    "train_X[[\n",
    "        'year', 'month', 'day', 'hour', 'minute', 'dayofweek', 'PdDistrict', 'X', 'Y']] = train_set[[\n",
    "        'year', 'month', 'day', 'hour', 'minute', 'dayofweek', 'PdDistrict', 'X', 'Y']]\n",
    "train_Y = train_set['Category']\n",
    "X = np.array(train_X)\n",
    "Y = np.array(train_Y)"
   ]
  },
  {
   "cell_type": "code",
   "execution_count": 3,
   "metadata": {
    "collapsed": false
   },
   "outputs": [],
   "source": [
    "#devided training set into training set and validation set\n",
    "X_train = X[0:800000,]\n",
    "Y_train = Y[0:800000,]\n",
    "X_test = X[800000:,]\n",
    "Y_test = Y[800000:,]"
   ]
  },
  {
   "cell_type": "code",
   "execution_count": 4,
   "metadata": {
    "collapsed": false
   },
   "outputs": [],
   "source": [
    "rfc = RandomForestClassifier(n_estimators = 100)"
   ]
  },
  {
   "cell_type": "code",
   "execution_count": 5,
   "metadata": {
    "collapsed": false
   },
   "outputs": [],
   "source": [
    "rfc.fit(X_train, Y_train)\n",
    "score = rfc.score(X_test, Y_test)"
   ]
  },
  {
   "cell_type": "code",
   "execution_count": 6,
   "metadata": {
    "collapsed": false
   },
   "outputs": [
    {
     "data": {
      "text/plain": [
       "0.26287332316877859"
      ]
     },
     "execution_count": 6,
     "metadata": {},
     "output_type": "execute_result"
    }
   ],
   "source": [
    "score"
   ]
  },
  {
   "cell_type": "code",
   "execution_count": 15,
   "metadata": {
    "collapsed": false
   },
   "outputs": [],
   "source": [
    "sv = svm.SVC(C = 1, gamma=2, kernel='rbf')"
   ]
  },
  {
   "cell_type": "code",
   "execution_count": 16,
   "metadata": {
    "collapsed": false
   },
   "outputs": [
    {
     "data": {
      "text/plain": [
       "SVC(C=1, cache_size=200, class_weight=None, coef0=0.0,\n",
       "  decision_function_shape=None, degree=3, gamma=2, kernel='rbf',\n",
       "  max_iter=-1, probability=False, random_state=None, shrinking=True,\n",
       "  tol=0.001, verbose=False)"
      ]
     },
     "execution_count": 16,
     "metadata": {},
     "output_type": "execute_result"
    }
   ],
   "source": [
    "sv.fit(X_train, Y_train)"
   ]
  },
  {
   "cell_type": "code",
   "execution_count": 17,
   "metadata": {
    "collapsed": false
   },
   "outputs": [
    {
     "data": {
      "text/plain": [
       "0.17512075747286962"
      ]
     },
     "execution_count": 17,
     "metadata": {},
     "output_type": "execute_result"
    }
   ],
   "source": [
    "sv.score(X_test, Y_test)"
   ]
  },
  {
   "cell_type": "code",
   "execution_count": 7,
   "metadata": {
    "collapsed": true
   },
   "outputs": [],
   "source": [
    "#import test set \n",
    "validation_set = pd.read_csv('test_set.csv', sep = ',')\n",
    "validation_X = pd.DataFrame()\n",
    "validation_X[[\n",
    "        'year', 'month', 'day', 'hour', 'minute', 'dayofweek', 'PdDistrict', 'X', 'Y']] = validation_set[[\n",
    "        'year', 'month', 'day', 'hour', 'minute', 'dayofweek', 'PdDistrict', 'X', 'Y']]\n",
    "X_validation = np.array(validation_X)"
   ]
  },
  {
   "cell_type": "code",
   "execution_count": 9,
   "metadata": {
    "collapsed": true
   },
   "outputs": [],
   "source": [
    "#make a prediction\n",
    "Y_pre = rfc.predict(X_validation)"
   ]
  },
  {
   "cell_type": "code",
   "execution_count": 10,
   "metadata": {
    "collapsed": true
   },
   "outputs": [],
   "source": [
    "#translate the result to one hot\n",
    "y = np.zeros([len(Y_pre), max(Y_pre)+1])\n",
    "for i in range(len(Y_pre)):\n",
    "    y[i][Y_pre[i]] = 1\n",
    "y = y.astype(int)\n",
    "Y = pd.DataFrame(y)"
   ]
  },
  {
   "cell_type": "code",
   "execution_count": 15,
   "metadata": {
    "collapsed": true
   },
   "outputs": [],
   "source": [
    "#translate the columns index and output a csv\n",
    "sub = pd.read_csv('sampleSubmission.csv', sep = ',')\n",
    "crime = sub.columns.tolist()[1:]\n",
    "mapping = {}\n",
    "for i in range(len(crime)):\n",
    "    mapping.update({i : crime[i]})\n",
    "Y = Y.rename(columns = mapping)\n",
    "Y.to_csv('prediction.csv', encoding = 'utf-8')"
   ]
  },
  {
   "cell_type": "code",
   "execution_count": 17,
   "metadata": {
    "collapsed": false
   },
   "outputs": [],
   "source": []
  },
  {
   "cell_type": "code",
   "execution_count": null,
   "metadata": {
    "collapsed": true
   },
   "outputs": [],
   "source": []
  }
 ],
 "metadata": {
  "kernelspec": {
   "display_name": "Python 2",
   "language": "python",
   "name": "python2"
  },
  "language_info": {
   "codemirror_mode": {
    "name": "ipython",
    "version": 2
   },
   "file_extension": ".py",
   "mimetype": "text/x-python",
   "name": "python",
   "nbconvert_exporter": "python",
   "pygments_lexer": "ipython2",
   "version": "2.7.11"
  }
 },
 "nbformat": 4,
 "nbformat_minor": 0
}
